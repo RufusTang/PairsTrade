{
 "cells": [
  {
   "cell_type": "markdown",
   "metadata": {},
   "source": [
    "1、导入所需的库函数"
   ]
  },
  {
   "cell_type": "code",
   "execution_count": 1,
   "metadata": {},
   "outputs": [],
   "source": [
    "from __future__ import division\n",
    "import jqdata               #导入聚宽函数库\n",
    "from six import StringIO    #使用聚宽readfile函数\n",
    "import numpy as np\n",
    "import pandas as pd"
   ]
  },
  {
   "cell_type": "markdown",
   "metadata": {},
   "source": [
    "2、获取相应的数据\n",
    "格式如下：\n",
    "- 列名：每个股票对应的价格，每一列就是一个价格\n",
    "- 行名：价格对应的日期，由“000300”的日期进行统一，避免日期错漏"
   ]
  },
  {
   "cell_type": "code",
   "execution_count": 2,
   "metadata": {},
   "outputs": [],
   "source": [
    "# 数据量为200个\n",
    "day_count = 200\n",
    "\n",
    "# 数据截止日期\n",
    "end_date = \"2018-11-20\"\n",
    "\n",
    "# 最终保存数据的pandas数组\n",
    "df_stocks = pd.DataFrame()\n",
    "\n",
    "# 对应指数中的股票，如果需要可以扩展至所有交易股票\n",
    "stocks = get_index_stocks('000300.XSHG')\n",
    "\n",
    "# 提取指数的交易日期\n",
    "date_index = get_price('000300.XSHG', count = day_count, end_date=end_date, frequency='daily', fields='close',fq = \"pre\")\n",
    "# 交易日期转化为数组\n",
    "date_index_list = date_index.index.tolist()\n",
    "# 重置最终数组的日期，确保最终日期统一，不发生错行的情况\n",
    "df_stocks = pd.DataFrame(index = date_index_list)\n",
    "\n",
    "\n",
    "# 开始获取收盘价信息，按列进行\n",
    "for stock_name in stocks:\n",
    "    # 通过聚宽函数获取“收盘价”信息\n",
    "    stock_price = get_price(stock_name, count = day_count, end_date=end_date, frequency='daily', fields='close',fq = \"pre\")\n",
    "    \n",
    "    # 单个股票对应的暂存数组\n",
    "    stock_price_pd = pd.DataFrame(data = np.array(stock_price['close']),columns = [stock_name],index = np.array(stock_price['close'].index))\n",
    "    \n",
    "    # 将单个数组与已有的数组合并\n",
    "    df_stocks = pd.concat([df_stocks,stock_price_pd],axis = 1)\n"
   ]
  },
  {
   "cell_type": "markdown",
   "metadata": {},
   "source": [
    "3、 写入文件"
   ]
  },
  {
   "cell_type": "code",
   "execution_count": 3,
   "metadata": {},
   "outputs": [],
   "source": [
    "# 确定文件名\n",
    "file_name = \"price1120.csv\"\n",
    "\n",
    "# 写入文件\n",
    "write_file(file_name, df_stocks.to_csv(), append=False) #写到文件中"
   ]
  },
  {
   "cell_type": "code",
   "execution_count": null,
   "metadata": {},
   "outputs": [],
   "source": []
  }
 ],
 "metadata": {
  "kernelspec": {
   "display_name": "Python 2",
   "language": "python",
   "name": "python2"
  },
  "language_info": {
   "codemirror_mode": {
    "name": "ipython",
    "version": 2
   },
   "file_extension": ".py",
   "mimetype": "text/x-python",
   "name": "python",
   "nbconvert_exporter": "python",
   "pygments_lexer": "ipython2",
   "version": "2.7.10"
  }
 },
 "nbformat": 4,
 "nbformat_minor": 2
}
